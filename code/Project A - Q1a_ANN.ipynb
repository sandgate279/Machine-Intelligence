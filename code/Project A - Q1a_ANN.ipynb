{
 "cells": [
  {
   "cell_type": "markdown",
   "metadata": {},
   "source": [
    "# Multilayer Perceptron (Tensorflow - Two spiral Dataset)"
   ]
  },
  {
   "cell_type": "markdown",
   "metadata": {},
   "source": [
    "Next we will look at a more complex classification task. The two spiral dataset consists of (x,y) coordinates of two alternating spirals, as can be seen in the following image. The aim of this exercise is to train a multilayer perceptron (MLP) to correctly classify an (x,y) coordinate.\n",
    "\n",
    "![alt text](images/two_spiral.png \"Two Spiral Dataset\")\n"
   ]
  },
  {
   "cell_type": "markdown",
   "metadata": {},
   "source": [
    "Instead of generating the dataset, we will read it from a file that takes the following form:\n",
    "\n",
    "|    x   |    y   | class |\n",
    "|:------:|:------:|:-----:|\n",
    "|  -6.5  |   0.0  |   0   |\n",
    "|  -6.5  |  -0.0  |   1   |\n",
    "|  6.314 |  1.256 |   0   |\n",
    "| -6.314 | -1.256 |   1   |\n",
    "|   ...  |   ...  |  ...  |"
   ]
  },
  {
   "cell_type": "code",
   "execution_count": 9,
   "metadata": {},
   "outputs": [],
   "source": [
    "import numpy as np\n",
    "import matplotlib.pyplot as plt\n",
    "import csv\n",
    "\n",
    "from sklearn import svm\n",
    "from sklearn.model_selection import train_test_split\n",
    "from sklearn.metrics import confusion_matrix\n",
    "#from sklearn.metrics import plot_confusion_matrix\n",
    "#from tools import plot_confusion_matrix\n",
    "\n",
    "import csv\n",
    "import tensorflow as tf\n",
    "from numpy import arange, round, meshgrid, resize\n",
    "import matplotlib.pyplot as plt\n",
    "\n",
    "def read_file(filename=\"projecta/Auto_train.csv\"):\n",
    "    x = []\n",
    "    y = []\n",
    "    \n",
    "    with open(filename) as csv_file:\n",
    "        csv_reader = csv.reader(csv_file)\n",
    "        for row in csv_reader:\n",
    "            x.append(list(map(float, row[:-1])))\n",
    "            y.append([int(row[-1])])\n",
    "\n",
    "    return x, y\n",
    "\n",
    "x, y = read_file()"
   ]
  },
  {
   "cell_type": "code",
   "execution_count": 10,
   "metadata": {},
   "outputs": [
    {
     "name": "stdout",
     "output_type": "stream",
     "text": [
      "[[3], [1], [1], [1], [1], [2], [3], [3], [1], [2], [1], [2], [3], [2], [1], [1], [1], [1], [3], [1], [2], [1], [3], [1], [1], [1], [1], [1], [1], [1], [1], [1], [1], [1], [1], [2], [1], [3], [1], [1], [1], [3], [2], [3], [2], [3], [2], [1], [3], [3], [3], [1], [1], [1], [1], [1], [1], [1], [1], [1], [1], [1], [1], [1], [1], [1], [1], [1], [1], [3], [3], [1], [3], [1], [1], [3], [2], [2], [2], [2], [2], [3], [1], [1], [1], [1], [1], [1], [1], [1], [1], [1], [1], [1], [1], [2], [3], [1], [1], [2], [1], [2], [1], [1], [1], [3], [2], [1], [1], [1], [1], [2], [3], [1], [3], [1], [1], [1], [1], [2], [3], [3], [3], [3], [3], [1], [3], [2], [2], [2], [2], [3], [2], [3], [2], [3], [3], [2], [1], [3], [1], [1], [1], [1], [1], [3], [1], [3], [3], [3], [3], [3], [1], [1], [1], [2], [2], [3], [3], [3], [3], [2], [2], [3], [3], [1], [1], [1], [1], [1], [1], [1], [1], [1], [1], [1], [2], [3], [3], [1], [1], [3], [3], [3], [3], [3], [3], [1], [1], [1], [1], [3], [1], [1], [1], [2], [1], [1], [1], [1], [1], [1], [1], [1], [1], [1], [1], [1], [1], [1], [1], [1], [1], [3], [1], [1], [1], [3], [2], [2], [2], [2], [2], [1], [1], [1], [1], [1], [3], [1], [3], [1], [1], [1], [1], [1], [1], [1], [1], [1], [1], [1], [1], [1], [1], [1], [1], [1], [1], [2], [2], [2], [3], [3], [2], [1], [3], [1], [2], [1], [1], [1], [1], [1], [1], [1], [1], [1], [1], [1], [3], [1], [1], [1], [1], [2], [2], [2], [2], [1], [3], [3], [1], [3], [1], [1], [1], [1], [1], [1], [1], [1], [1], [1], [1], [1], [1], [1]]\n"
     ]
    }
   ],
   "source": [
    "print(y)"
   ]
  },
  {
   "cell_type": "markdown",
   "metadata": {},
   "source": [
    "Next, we will build a multilayered neural network model. We will use **two** hidden layers and will therefore need three sets of weights (one connecting the input layer to the first hidden layer, another connecting the first hidden layer to the second hidden layer, and another connecting the second hidden layer to the output layer). In this example, each hidden layer is set to have 40 neurons. This is an arbitrary number -- feel free to play around with the network's configuration and change this number."
   ]
  },
  {
   "cell_type": "code",
   "execution_count": 11,
   "metadata": {},
   "outputs": [],
   "source": [
    "# Create the model\n",
    "x_ = tf.placeholder(tf.float32, [None, 2])\n",
    "y_ = tf.placeholder(tf.float32, [None, 1])\n",
    "\n",
    "neur = 100\n",
    "\n",
    "# Create first layer weights\n",
    "layer_0_weights = tf.Variable(tf.random_normal([2, neur]))\n",
    "layer_0_bias = tf.Variable(tf.random_normal([neur]))\n",
    "layer_0 = tf.nn.sigmoid(tf.add((tf.matmul(x_, layer_0_weights)), layer_0_bias))\n",
    "\n",
    "# Create second layer weights\n",
    "layer_1_weights = tf.Variable(tf.random_normal([neur, neur]))\n",
    "layer_1_bias = tf.Variable(tf.random_normal([neur]))\n",
    "layer_1 = tf.nn.sigmoid(tf.add(tf.matmul(layer_0, layer_1_weights), layer_1_bias))\n",
    "\n",
    "# Create second layer weights\n",
    "layer_2_weights = tf.Variable(tf.random_normal([neur, neur]))\n",
    "layer_2_bias = tf.Variable(tf.random_normal([neur]))\n",
    "layer_2 = tf.nn.sigmoid(tf.add(tf.matmul(layer_1, layer_2_weights), layer_2_bias))\n",
    "\n",
    "# Create third layer weights\n",
    "layer_3_weights = tf.Variable(tf.random_normal([neur, 1]))\n",
    "layer_3_bias = tf.Variable(tf.random_normal([1]))\n",
    "layer_3 = tf.nn.sigmoid(tf.add(tf.matmul(layer_2, layer_3_weights), layer_3_bias))"
   ]
  },
  {
   "cell_type": "code",
   "execution_count": 12,
   "metadata": {},
   "outputs": [
    {
     "name": "stdout",
     "output_type": "stream",
     "text": [
      "Tensor(\"Placeholder_2:0\", shape=(?, 2), dtype=float32)\n"
     ]
    }
   ],
   "source": [
    "print(x_)"
   ]
  },
  {
   "cell_type": "markdown",
   "metadata": {},
   "source": [
    "Again, we will use the same error function and optimizer we used in the previous example and train the network in the same way."
   ]
  },
  {
   "cell_type": "code",
   "execution_count": 13,
   "metadata": {},
   "outputs": [
    {
     "name": "stderr",
     "output_type": "stream",
     "text": [
      "C:\\ProgramData\\Anaconda3\\lib\\site-packages\\tensorflow\\python\\client\\session.py:1702: UserWarning: An interactive session is already active. This can cause out-of-memory errors in some cases. You must explicitly call `InteractiveSession.close()` to release resources held by the other session(s).\n",
      "  warnings.warn('An interactive session is already active. This can '\n"
     ]
    },
    {
     "name": "stdout",
     "output_type": "stream",
     "text": [
      "Training...\n"
     ]
    },
    {
     "data": {
      "image/png": "[encoded data removed]",
      "text/plain": [
       "<Figure size 432x288 with 1 Axes>"
      ]
     },
     "metadata": {
      "needs_background": "light"
     },
     "output_type": "display_data"
    }
   ],
   "source": [
    "# Define error function\n",
    "cost = tf.reduce_mean(tf.losses.mean_squared_error(labels=y_, predictions=layer_3))\n",
    "\n",
    "# Define optimizer and its task (minimise error function)\n",
    "optimizer = tf.train.GradientDescentOptimizer(learning_rate=.5).minimize(cost)\n",
    "\n",
    "N_EPOCHS = 50000 #Increase the number of epochs to about 50000 to get better results. This will take some time for training.\n",
    "\n",
    "sess = tf.InteractiveSession()\n",
    "tf.global_variables_initializer().run()\n",
    "\n",
    "print('Training...')\n",
    "\n",
    "errors = []\n",
    "\n",
    "# Train\n",
    "for i in range(N_EPOCHS):\n",
    "    _, error = sess.run([optimizer,cost], feed_dict={x_: x, y_: y})\n",
    "    errors.append(error)\n",
    "    \n",
    "plt.plot(errors)\n",
    "plt.show()       "
   ]
  },
  {
   "cell_type": "markdown",
   "metadata": {},
   "source": [
    "In other examples it makes sense to test the trained model on the training dataset and display the predictions alongside the targets. For this dataset, it makes more sense to display our results visually. We are going to construct our own test set of coordinates, activate on each coordinate, and then display the activations."
   ]
  },
  {
   "cell_type": "markdown",
   "metadata": {
    "collapsed": true
   },
   "source": [
    "A good result is to have two, well separated, spirals. Play around with the network configuration (number of hidden layers and number of units per hidden layer) and the number of training epochs to explore how they effect model accuracy."
   ]
  },
  {
   "cell_type": "code",
   "execution_count": 14,
   "metadata": {
    "scrolled": true
   },
   "outputs": [],
   "source": [
    "# Display predictions\n",
    "classifications = round(sess.run(layer_3, feed_dict={x_: x}))\n",
    "#for input, target, prediction in zip(x, y, classifications):\n",
    "#    print(\"input\",input,\"target\",target,\"prediction\",prediction)"
   ]
  },
  {
   "cell_type": "code",
   "execution_count": 15,
   "metadata": {},
   "outputs": [],
   "source": [
    "#y2 = np.zeros(len(y)) #np.ones((3,2))\n",
    "y2 = list(np.zeros(len(y)))           \n",
    "for i in range(0, len(y)): y2[i] = int(y[i][0]) \n",
    "    \n",
    "class2 = list(np.zeros(len(classifications))) \n",
    "for i in range(0, len(classifications)): class2[i] = int(classifications[i][0])"
   ]
  },
  {
   "cell_type": "code",
   "execution_count": 16,
   "metadata": {},
   "outputs": [
    {
     "ename": "IndexError",
     "evalue": "index 3 is out of bounds for axis 0 with size 2",
     "output_type": "error",
     "traceback": [
      "\u001b[1;31m---------------------------------------------------------------------------\u001b[0m",
      "\u001b[1;31mIndexError\u001b[0m                                Traceback (most recent call last)",
      "\u001b[1;32m<ipython-input-16-ee73fb7ec19e>\u001b[0m in \u001b[0;36m<module>\u001b[1;34m\u001b[0m\n\u001b[0;32m      2\u001b[0m \u001b[1;33m\u001b[0m\u001b[0m\n\u001b[0;32m      3\u001b[0m \u001b[1;32mfor\u001b[0m \u001b[0mtrue_label\u001b[0m\u001b[1;33m,\u001b[0m \u001b[0mpredicted_label\u001b[0m \u001b[1;32min\u001b[0m \u001b[0mzip\u001b[0m\u001b[1;33m(\u001b[0m\u001b[0my2\u001b[0m\u001b[1;33m,\u001b[0m \u001b[0mclass2\u001b[0m\u001b[1;33m)\u001b[0m\u001b[1;33m:\u001b[0m\u001b[1;33m\u001b[0m\u001b[1;33m\u001b[0m\u001b[0m\n\u001b[1;32m----> 4\u001b[1;33m     \u001b[0mconfusion_matrix\u001b[0m\u001b[1;33m[\u001b[0m\u001b[0mtrue_label\u001b[0m\u001b[1;33m]\u001b[0m\u001b[1;33m[\u001b[0m\u001b[0mpredicted_label\u001b[0m\u001b[1;33m]\u001b[0m \u001b[1;33m+=\u001b[0m \u001b[1;36m1\u001b[0m\u001b[1;33m\u001b[0m\u001b[1;33m\u001b[0m\u001b[0m\n\u001b[0m\u001b[0;32m      5\u001b[0m \u001b[1;33m\u001b[0m\u001b[0m\n\u001b[0;32m      6\u001b[0m \u001b[1;31m#confusion_matrix[y2][class2]\u001b[0m\u001b[1;33m\u001b[0m\u001b[1;33m\u001b[0m\u001b[1;33m\u001b[0m\u001b[0m\n",
      "\u001b[1;31mIndexError\u001b[0m: index 3 is out of bounds for axis 0 with size 2"
     ]
    }
   ],
   "source": [
    "confusion_matrix = np.zeros((2,2))\n",
    "\n",
    "for true_label, predicted_label in zip(y2, class2):\n",
    "    confusion_matrix[true_label][predicted_label] += 1\n",
    "    \n",
    "#confusion_matrix[y2][class2]"
   ]
  },
  {
   "cell_type": "code",
   "execution_count": null,
   "metadata": {},
   "outputs": [],
   "source": [
    "import itertools\n",
    "def plot_confusion_matrix(cm, classes,normalize,title,cmap=plt.cm.Blues):\n",
    "    plt.imshow(cm, interpolation='nearest', cmap=cmap)\n",
    "    plt.title(title)\n",
    "    tick_marks = np.arange(len(classes))\n",
    "    plt.xticks(tick_marks, classes, rotation=45)\n",
    "    plt.yticks([-0.5, 0.5, 1.5], classes, rotation=90)\n",
    "    \n",
    "\n",
    "    if normalize:\n",
    "        cm = cm.astype('float') / cm.sum(axis=1)[:, np.newaxis]\n",
    "\n",
    "    thresh = cm.max() / 2.\n",
    "    for i, j in itertools.product(range(cm.shape[0]), range(cm.shape[1])):\n",
    "        plt.text(j, i, np.round(cm[i, j],2),\n",
    "                 horizontalalignment=\"center\",\n",
    "                 verticalalignment='center',\n",
    "                 color=\"white\" if cm[i, j] > thresh else \"black\")\n",
    "    \n",
    "        plt.ylabel('True label')\n",
    "    plt.xlabel('Predicted label')"
   ]
  },
  {
   "cell_type": "code",
   "execution_count": null,
   "metadata": {},
   "outputs": [],
   "source": [
    "#from tools import plot_confusion_matrix\n",
    "\n",
    "plt.figure()\n",
    "plot_confusion_matrix(confusion_matrix, classes=['Heart Disease','No Heart Disease'], normalize=False, title='Confusion matrix, without normalization')\n",
    "\n",
    "plt.figure()\n",
    "plot_confusion_matrix(confusion_matrix, classes=['Heart Disease','No Heart Disease'], normalize=True, title='Normalized confusion matrix')\n",
    "\n",
    "plt.show()"
   ]
  },
  {
   "cell_type": "code",
   "execution_count": null,
   "metadata": {},
   "outputs": [],
   "source": [
    "def read_file(filename=\"projecta/Auto_test.csv\"):\n",
    "    x = []\n",
    "    y = []\n",
    "    \n",
    "    with open(filename) as csv_file:\n",
    "        csv_reader = csv.reader(csv_file)\n",
    "        for row in csv_reader:\n",
    "            x.append(list(map(float, row[:-1])))\n",
    "            y.append([int(row[-1])])\n",
    "\n",
    "    return x, y\n",
    "\n",
    "x, y = read_file()"
   ]
  },
  {
   "cell_type": "code",
   "execution_count": null,
   "metadata": {},
   "outputs": [],
   "source": [
    "# Display predictions\n",
    "classifications = round(sess.run(layer_3, feed_dict={x_: x}))\n",
    "#for input, target, prediction in zip(x, y, classifications):\n",
    "#    print(\"input\",input,\"target\",target,\"prediction\",prediction)"
   ]
  },
  {
   "cell_type": "code",
   "execution_count": null,
   "metadata": {},
   "outputs": [],
   "source": [
    "#y2 = np.zeros(len(y)) #np.ones((3,2))\n",
    "y2 = list(np.zeros(len(y)))           \n",
    "for i in range(0, len(y)): y2[i] = int(y[i][0]) \n",
    "    \n",
    "class2 = list(np.zeros(len(classifications))) \n",
    "for i in range(0, len(classifications)): class2[i] = int(classifications[i][0])"
   ]
  },
  {
   "cell_type": "code",
   "execution_count": null,
   "metadata": {},
   "outputs": [],
   "source": [
    "confusion_matrix = np.zeros((2,2))\n",
    "\n",
    "for true_label, predicted_label in zip(y2, class2):\n",
    "    confusion_matrix[true_label][predicted_label] += 1\n",
    "    \n",
    "#confusion_matrix[y2][class2]"
   ]
  },
  {
   "cell_type": "code",
   "execution_count": null,
   "metadata": {},
   "outputs": [],
   "source": [
    "#from tools import plot_confusion_matrix\n",
    "\n",
    "plt.figure()\n",
    "plot_confusion_matrix(confusion_matrix, classes=['Heart Disease','No Heart Disease'], normalize=False, title='Confusion matrix, without normalization')\n",
    "\n",
    "plt.figure()\n",
    "plot_confusion_matrix(confusion_matrix, classes=['Heart Disease','No Heart Disease'], normalize=True, title='Normalized confusion matrix')\n",
    "\n",
    "plt.show()"
   ]
  }
 ],
 "metadata": {
  "kernelspec": {
   "display_name": "Python 3",
   "language": "python",
   "name": "python3"
  },
  "language_info": {
   "codemirror_mode": {
    "name": "ipython",
    "version": 3
   },
   "file_extension": ".py",
   "mimetype": "text/x-python",
   "name": "python",
   "nbconvert_exporter": "python",
   "pygments_lexer": "ipython3",
   "version": "3.6.5"
  },
  "pycharm": {
   "stem_cell": {
    "cell_type": "raw",
    "metadata": {
     "collapsed": false
    },
    "source": []
   }
  }
 },
 "nbformat": 4,
 "nbformat_minor": 1
}
