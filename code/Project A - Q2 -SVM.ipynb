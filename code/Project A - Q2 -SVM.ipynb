{
 "cells": [
  {
   "cell_type": "code",
   "execution_count": 1,
   "metadata": {},
   "outputs": [
    {
     "name": "stdout",
     "output_type": "stream",
     "text": [
      "Hi\n"
     ]
    }
   ],
   "source": [
    "import numpy as np\n",
    "from scipy.stats import norm, kurtosis\n",
    "import pandas as pd\n",
    "from sklearn import svm\n",
    "from sklearn.svm import SVC\n",
    "import matplotlib.pyplot as plt\n",
    "from sklearn.model_selection import train_test_split\n",
    "from sklearn.metrics import confusion_matrix\n",
    "from sklearn.model_selection import learning_curve\n",
    "from sklearn.preprocessing import StandardScaler\n",
    "from matplotlib.colors import ListedColormap\n",
    "import csv\n",
    "from matplotlib.ticker import NullFormatter\n",
    "import matplotlib.ticker as ticker\n",
    "from sklearn import preprocessing\n",
    "%matplotlib inline\n",
    "\n",
    "\n",
    "\n",
    "#Read train dataset\n",
    "def read_sat_train_file(filenames=[\"./sat_train.csv\"]):\n",
    "    x = []\n",
    "    y = []\n",
    "     #iterate over all configurations\n",
    "    \n",
    "\n",
    "    for filename in filenames:\n",
    "        with open(filename) as file:\n",
    "            reader = csv.reader(file)\n",
    "            class_names = next(reader)[30:]\n",
    "            for row in reader:\n",
    "                x.append(list(map(float,row[:-1])))\n",
    "                y.append(int(row[-1]))\n",
    "            \n",
    "    return x, y\n",
    "\n",
    "x_train,y_train=read_sat_train_file()\n",
    "\n",
    "print(\"Hi\")"
   ]
  },
  {
   "cell_type": "code",
   "execution_count": 2,
   "metadata": {},
   "outputs": [],
   "source": [
    "#Read test data set\n",
    "def read_sat_test_file(filenames=[\"./sat_test.csv\"]):\n",
    "    xx = []\n",
    "    yy = []\n",
    "     #iterate over all configurations\n",
    "    \n",
    "\n",
    "    for filename in filenames:\n",
    "        with open(filename) as file:\n",
    "            reader = csv.reader(file)\n",
    "            class_names = next(reader)[30:]\n",
    "            for row in reader:\n",
    "                xx.append(list(map(float,row[:-1])))\n",
    "                yy.append(int(row[-1]))\n",
    "            \n",
    "    return xx, yy\n",
    "\n",
    "x_test,y_test=read_sat_test_file()\n"
   ]
  },
  {
   "cell_type": "code",
   "execution_count": 3,
   "metadata": {},
   "outputs": [],
   "source": []
  },
  {
   "cell_type": "code",
   "execution_count": null,
   "metadata": {},
   "outputs": [],
   "source": []
  },
  {
   "cell_type": "code",
   "execution_count": null,
   "metadata": {},
   "outputs": [],
   "source": [
    "#Search best fit parameters for the train data set\n",
    "from sklearn.model_selection import GridSearchCV\n",
    "from sklearn import svm\n",
    "\n",
    "\n",
    "#set up parameters to iterate over\n",
    "parameters = {'kernel':('linear', 'rbf'),\n",
    "                'C':[0.0001, 0.001, 0.01, 0.1, 1],\n",
    "                'gamma':[0.0001, 0.001, 0.01, 0.1, 1]\n",
    "              }\n",
    "\n",
    "clf = GridSearchCV(svm.SVC(), parameters)\n",
    "\n",
    "from sklearn.preprocessing import MultiLabelBinarizer  \n",
    "\n",
    "clf.fit(x_train, y_train) #iterate over all configurations\n",
    "\n",
    "print(\"Best parameters:\", clf.best_params_)\n"
   ]
  },
  {
   "cell_type": "code",
   "execution_count": null,
   "metadata": {},
   "outputs": [],
   "source": []
  },
  {
   "cell_type": "code",
   "execution_count": 19,
   "metadata": {},
   "outputs": [
    {
     "name": "stdout",
     "output_type": "stream",
     "text": [
      "Model accuracy: 91.31709517365809 %\n"
     ]
    }
   ],
   "source": [
    "#Fit the train dataset with the best parameters.\n",
    "svm = SVC(C=1, kernel='rbf', gamma=0.0001)\n",
    "\n",
    "svm.fit(x_train,y_train)\n",
    "accuracy = svm.score(x_train, y_train)\n",
    "print('Model accuracy:',accuracy*100,'%')"
   ]
  },
  {
   "cell_type": "code",
   "execution_count": 20,
   "metadata": {},
   "outputs": [],
   "source": [
    "yhat_train=svm.predict(x_train)"
   ]
  },
  {
   "cell_type": "code",
   "execution_count": 21,
   "metadata": {},
   "outputs": [],
   "source": [
    "#Predict using the SVM model on test dataset\n",
    "yhat = svm.predict(x_test)\n"
   ]
  },
  {
   "cell_type": "code",
   "execution_count": 22,
   "metadata": {},
   "outputs": [
    {
     "name": "stdout",
     "output_type": "stream",
     "text": [
      "SVM accuracy on test data set:  0.8975\n"
     ]
    }
   ],
   "source": [
    "from sklearn import metrics\n",
    "import matplotlib.pyplot as plt\n",
    "print(\"SVM accuracy on test data set: \", metrics.accuracy_score(y_test, yhat))"
   ]
  },
  {
   "cell_type": "code",
   "execution_count": 23,
   "metadata": {},
   "outputs": [
    {
     "name": "stdout",
     "output_type": "stream",
     "text": [
      "Jaccard similarity accuracy score on test data set:  0.8975\n"
     ]
    }
   ],
   "source": [
    "#compare set of predicted labels to the corresponding set of labels in y_test using Jaccard index.\n",
    "from sklearn.metrics import jaccard_similarity_score\n",
    "print(\"Jaccard similarity accuracy score on test data set: \",jaccard_similarity_score(y_test, yhat))"
   ]
  },
  {
   "cell_type": "code",
   "execution_count": 24,
   "metadata": {},
   "outputs": [
    {
     "name": "stdout",
     "output_type": "stream",
     "text": [
      "Jaccard similarity accuracy score out of 2000 data records:  1795\n"
     ]
    }
   ],
   "source": [
    "print(\"Jaccard similarity accuracy score out of 2000 data records: \",jaccard_similarity_score(y_test, yhat,normalize=False))"
   ]
  },
  {
   "cell_type": "code",
   "execution_count": 8,
   "metadata": {},
   "outputs": [],
   "source": [
    "from sklearn.metrics import classification_report, confusion_matrix\n",
    "import itertools"
   ]
  },
  {
   "cell_type": "code",
   "execution_count": 26,
   "metadata": {},
   "outputs": [],
   "source": [
    "def plot_confusion_matrix(cm, classes,\n",
    "                          normalize=True,\n",
    "                          title='Confusion matrix',\n",
    "                          cmap=plt.cm.Blues):\n",
    "    \"\"\"\n",
    "    This function prints and plots the confusion matrix.\n",
    "    Normalization can be applied by setting `normalize=True`.\n",
    "    \"\"\"\n",
    "    if normalize:\n",
    "        cm = cm.astype('float') / cm.sum(axis=1)[:, np.newaxis]\n",
    "        print(\"Normalized confusion matrix\")\n",
    "    else:\n",
    "        print('Confusion matrix, without normalization')\n",
    "\n",
    "    print(cm)\n",
    "\n",
    "    plt.imshow(cm, interpolation='nearest', cmap=cmap)\n",
    "    plt.title(title)\n",
    "    plt.colorbar()\n",
    "    tick_marks = np.arange(len(classes))\n",
    "    plt.xticks(tick_marks, classes, rotation=45)\n",
    "    plt.yticks(tick_marks, classes)\n",
    "\n",
    "    fmt = '.2f' if normalize else 'd'\n",
    "    thresh = cm.max() / 2.\n",
    "    for i, j in itertools.product(range(cm.shape[0]), range(cm.shape[1])):\n",
    "        plt.text(j, i, format(cm[i, j], fmt),\n",
    "                 horizontalalignment=\"center\",\n",
    "                 color=\"white\" if cm[i, j] > thresh else \"black\")\n",
    "\n",
    "    plt.tight_layout()\n",
    "    plt.ylabel('True label')\n",
    "    plt.xlabel('Predicted label')"
   ]
  },
  {
   "cell_type": "code",
   "execution_count": 27,
   "metadata": {},
   "outputs": [
    {
     "name": "stdout",
     "output_type": "stream",
     "text": [
      "             precision    recall  f1-score   support\n",
      "\n",
      "          1       0.98      0.99      0.98      1072\n",
      "          2       0.98      0.99      0.99       479\n",
      "          3       0.88      0.98      0.93       960\n",
      "          4       0.72      0.57      0.64       415\n",
      "          5       0.94      0.89      0.91       470\n",
      "          7       0.90      0.89      0.89      1038\n",
      "\n",
      "avg / total       0.91      0.91      0.91      4434\n",
      "\n",
      "Normalized confusion matrix\n",
      "[[9.89e-01 0.00e+00 9.33e-03 0.00e+00 1.87e-03 0.00e+00]\n",
      " [0.00e+00 9.87e-01 0.00e+00 4.18e-03 6.26e-03 2.09e-03]\n",
      " [3.13e-03 1.04e-03 9.80e-01 1.46e-02 0.00e+00 1.04e-03]\n",
      " [7.23e-03 4.82e-03 2.34e-01 5.71e-01 9.64e-03 1.73e-01]\n",
      " [3.40e-02 8.51e-03 2.13e-03 2.13e-03 8.89e-01 6.38e-02]\n",
      " [0.00e+00 9.63e-04 2.12e-02 7.42e-02 1.73e-02 8.86e-01]]\n"
     ]
    },
    {
     "data": {
      "image/png": "[encoded data removed]",
      "text/plain": [
       "<Figure size 432x288 with 2 Axes>"
      ]
     },
     "metadata": {},
     "output_type": "display_data"
    }
   ],
   "source": [
    "# Compute confusion matrix\n",
    "cnf_matrix = confusion_matrix(y_train, yhat_train, labels=[1,2,3,4,5,7])\n",
    "np.set_printoptions(precision=2)\n",
    "\n",
    "print (classification_report(y_train, yhat_train))\n",
    "\n",
    "# Plot non-normalized confusion matrix\n",
    "plt.figure()\n",
    "plot_confusion_matrix(cnf_matrix, classes=['red soil(1)','cotton crop(2)','grey soil(3)','damp grey soil(4)','soil with vegetation stubble(5)','very damp grey soil(7)'],normalize= True,  title='Confusion matrix')"
   ]
  },
  {
   "cell_type": "code",
   "execution_count": null,
   "metadata": {},
   "outputs": [],
   "source": [
    "\n",
    "\n"
   ]
  },
  {
   "cell_type": "code",
   "execution_count": null,
   "metadata": {},
   "outputs": [],
   "source": []
  },
  {
   "cell_type": "code",
   "execution_count": null,
   "metadata": {},
   "outputs": [],
   "source": [
    "        "
   ]
  },
  {
   "cell_type": "code",
   "execution_count": null,
   "metadata": {},
   "outputs": [],
   "source": []
  },
  {
   "cell_type": "code",
   "execution_count": null,
   "metadata": {},
   "outputs": [],
   "source": []
  },
  {
   "cell_type": "code",
   "execution_count": null,
   "metadata": {},
   "outputs": [],
   "source": []
  },
  {
   "cell_type": "code",
   "execution_count": null,
   "metadata": {},
   "outputs": [],
   "source": [
    "\n"
   ]
  },
  {
   "cell_type": "code",
   "execution_count": null,
   "metadata": {},
   "outputs": [],
   "source": []
  }
 ],
 "metadata": {
  "kernelspec": {
   "display_name": "Python 3",
   "language": "python",
   "name": "python3"
  },
  "language_info": {
   "codemirror_mode": {
    "name": "ipython",
    "version": 3
   },
   "file_extension": ".py",
   "mimetype": "text/x-python",
   "name": "python",
   "nbconvert_exporter": "python",
   "pygments_lexer": "ipython3",
   "version": "3.7.4"
  }
 },
 "nbformat": 4,
 "nbformat_minor": 2
}
