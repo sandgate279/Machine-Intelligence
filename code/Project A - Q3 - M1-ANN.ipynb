{
 "cells": [
  {
   "cell_type": "markdown",
   "metadata": {},
   "source": [
    "# Project A - Q3 ANN Multilayer Perceptron (Patient Drug Dataset)"
   ]
  },
  {
   "cell_type": "markdown",
   "metadata": {},
   "source": [
    "This code was used for the classification tasks described in Question 3 of Project A. The classifications of both Patient drug data set and Telecommunications data set were conducted using this code."
   ]
  },
  {
   "cell_type": "code",
   "execution_count": 1,
   "metadata": {},
   "outputs": [
    {
     "data": {
      "text/html": [
       "<div>\n",
       "<style scoped>\n",
       "    .dataframe tbody tr th:only-of-type {\n",
       "        vertical-align: middle;\n",
       "    }\n",
       "\n",
       "    .dataframe tbody tr th {\n",
       "        vertical-align: top;\n",
       "    }\n",
       "\n",
       "    .dataframe thead th {\n",
       "        text-align: right;\n",
       "    }\n",
       "</style>\n",
       "<table border=\"1\" class=\"dataframe\">\n",
       "  <thead>\n",
       "    <tr style=\"text-align: right;\">\n",
       "      <th></th>\n",
       "      <th>Age</th>\n",
       "      <th>Sex</th>\n",
       "      <th>BP</th>\n",
       "      <th>Cholesterol</th>\n",
       "      <th>Na_to_K</th>\n",
       "      <th>Drug</th>\n",
       "    </tr>\n",
       "  </thead>\n",
       "  <tbody>\n",
       "    <tr>\n",
       "      <td>0</td>\n",
       "      <td>23</td>\n",
       "      <td>F</td>\n",
       "      <td>HIGH</td>\n",
       "      <td>HIGH</td>\n",
       "      <td>25.355</td>\n",
       "      <td>drugY</td>\n",
       "    </tr>\n",
       "    <tr>\n",
       "      <td>1</td>\n",
       "      <td>47</td>\n",
       "      <td>M</td>\n",
       "      <td>LOW</td>\n",
       "      <td>HIGH</td>\n",
       "      <td>13.093</td>\n",
       "      <td>drugC</td>\n",
       "    </tr>\n",
       "    <tr>\n",
       "      <td>2</td>\n",
       "      <td>47</td>\n",
       "      <td>M</td>\n",
       "      <td>LOW</td>\n",
       "      <td>HIGH</td>\n",
       "      <td>10.114</td>\n",
       "      <td>drugC</td>\n",
       "    </tr>\n",
       "    <tr>\n",
       "      <td>3</td>\n",
       "      <td>28</td>\n",
       "      <td>F</td>\n",
       "      <td>NORMAL</td>\n",
       "      <td>HIGH</td>\n",
       "      <td>7.798</td>\n",
       "      <td>drugX</td>\n",
       "    </tr>\n",
       "    <tr>\n",
       "      <td>4</td>\n",
       "      <td>61</td>\n",
       "      <td>F</td>\n",
       "      <td>LOW</td>\n",
       "      <td>HIGH</td>\n",
       "      <td>18.043</td>\n",
       "      <td>drugY</td>\n",
       "    </tr>\n",
       "  </tbody>\n",
       "</table>\n",
       "</div>"
      ],
      "text/plain": [
       "   Age Sex      BP Cholesterol  Na_to_K   Drug\n",
       "0   23   F    HIGH        HIGH   25.355  drugY\n",
       "1   47   M     LOW        HIGH   13.093  drugC\n",
       "2   47   M     LOW        HIGH   10.114  drugC\n",
       "3   28   F  NORMAL        HIGH    7.798  drugX\n",
       "4   61   F     LOW        HIGH   18.043  drugY"
      ]
     },
     "execution_count": 1,
     "metadata": {},
     "output_type": "execute_result"
    }
   ],
   "source": [
    "import numpy as np\n",
    "import matplotlib.pyplot as plt\n",
    "import csv\n",
    "import pandas as pd\n",
    "\n",
    "from sklearn import svm\n",
    "from sklearn.model_selection import train_test_split\n",
    "from sklearn.metrics import confusion_matrix\n",
    "#from sklearn.metrics import plot_confusion_matrix\n",
    "#from tools import plot_confusion_matrix\n",
    "\n",
    "import csv\n",
    "import tensorflow as tf\n",
    "from numpy import arange, round, meshgrid, resize\n",
    "import matplotlib.pyplot as plt\n",
    "\n",
    "#Read the csv from C:\\\n",
    "my_data = pd.read_csv(\"projecta/drug_csv.csv\", delimiter=\",\")\n",
    "my_data[0:5]"
   ]
  },
  {
   "cell_type": "code",
   "execution_count": 2,
   "metadata": {},
   "outputs": [
    {
     "data": {
      "text/plain": [
       "array([[23, 'F', 'HIGH', 'HIGH', 25.355],\n",
       "       [47, 'M', 'LOW', 'HIGH', 13.093],\n",
       "       [47, 'M', 'LOW', 'HIGH', 10.113999999999999],\n",
       "       [28, 'F', 'NORMAL', 'HIGH', 7.797999999999999],\n",
       "       [61, 'F', 'LOW', 'HIGH', 18.043]], dtype=object)"
      ]
     },
     "execution_count": 2,
     "metadata": {},
     "output_type": "execute_result"
    }
   ],
   "source": [
    "# X value with all the features except the target drug field\n",
    "#y is the target drug field that is to be prediced by the model.\n",
    "X = my_data[['Age', 'Sex', 'BP', 'Cholesterol', 'Na_to_K']].values\n",
    "X[0:5]\n"
   ]
  },
  {
   "cell_type": "code",
   "execution_count": 3,
   "metadata": {},
   "outputs": [
    {
     "data": {
      "text/plain": [
       "array([[23, 0, 0, 0, 25.355],\n",
       "       [47, 1, 1, 0, 13.093],\n",
       "       [47, 1, 1, 0, 10.113999999999999],\n",
       "       [28, 0, 2, 0, 7.797999999999999],\n",
       "       [61, 0, 1, 0, 18.043]], dtype=object)"
      ]
     },
     "execution_count": 3,
     "metadata": {},
     "output_type": "execute_result"
    }
   ],
   "source": [
    "#Pre processing\n",
    "#Convert string values into equivalent numeric\n",
    "from sklearn import preprocessing\n",
    "le_sex = preprocessing.LabelEncoder()\n",
    "le_sex.fit(['F','M'])\n",
    "X[:,1] = le_sex.transform(X[:,1]) \n",
    "\n",
    "\n",
    "le_BP = preprocessing.LabelEncoder()\n",
    "le_BP.fit([ 'LOW', 'NORMAL', 'HIGH'])\n",
    "X[:,2] = le_BP.transform(X[:,2])\n",
    "\n",
    "\n",
    "le_Chol = preprocessing.LabelEncoder()\n",
    "le_Chol.fit([ 'NORMAL', 'HIGH'])\n",
    "X[:,3] = le_Chol.transform(X[:,3]) \n",
    "\n",
    "X[0:5]"
   ]
  },
  {
   "cell_type": "code",
   "execution_count": 4,
   "metadata": {},
   "outputs": [],
   "source": [
    "#Create a dictionary for y\n",
    "drug = {'drugA': 1,'drugB':2,'drugC':3,'drugX':4,'drugY': 5} \n",
    "class_names = ['drugA','drugB','drugC','drugX','drugY']"
   ]
  },
  {
   "cell_type": "code",
   "execution_count": 5,
   "metadata": {},
   "outputs": [],
   "source": [
    "#Replace the drug with numeric\n",
    "my_data.Drug=[drug[item] for item in my_data.Drug]\n",
    "y_enc=my_data[['Drug']].values"
   ]
  },
  {
   "cell_type": "code",
   "execution_count": 6,
   "metadata": {},
   "outputs": [],
   "source": [
    "y = np.zeros((len(X),5))\n",
    "for i in range(0, len(X)): y[i,y_enc[i]-1] = 1"
   ]
  },
  {
   "cell_type": "code",
   "execution_count": 7,
   "metadata": {},
   "outputs": [],
   "source": [
    "from sklearn.model_selection import train_test_split"
   ]
  },
  {
   "cell_type": "code",
   "execution_count": 8,
   "metadata": {},
   "outputs": [
    {
     "name": "stdout",
     "output_type": "stream",
     "text": [
      "(160, 5) (160, 5)\n",
      "(40, 5) (40, 5)\n"
     ]
    }
   ],
   "source": [
    "#Split  the dataset into train and test \n",
    "X_train, X_test, y_train, y_test = train_test_split(X, y, test_size=0.2, random_state=4)\n",
    "print(X_train.shape,y_train.shape)\n",
    "print(X_test.shape,y_test.shape)\n"
   ]
  },
  {
   "cell_type": "code",
   "execution_count": 41,
   "metadata": {},
   "outputs": [],
   "source": [
    "# Create the model\n",
    "x_ = tf.placeholder(tf.float32, [None, 5])\n",
    "y_ = tf.placeholder(tf.float32, [None, 5])\n",
    "\n",
    "neur = 200\n",
    "\n",
    "# Create first layer weights\n",
    "layer_0_weights = tf.Variable(tf.random_normal([5, neur]))\n",
    "layer_0_bias = tf.Variable(tf.random_normal([neur]))\n",
    "layer_0 = tf.nn.sigmoid(tf.add((tf.matmul(x_, layer_0_weights)), layer_0_bias))\n",
    "\n",
    "\n",
    "# Create second layer weights\n",
    "layer_1_weights = tf.Variable(tf.random_normal([neur, neur]))\n",
    "layer_1_bias = tf.Variable(tf.random_normal([neur]))\n",
    "layer_1 = tf.nn.sigmoid(tf.add(tf.matmul(layer_0, layer_1_weights), layer_1_bias))\n",
    "\n",
    "\n",
    "\"\"\"\n",
    "# Create second layer weights\n",
    "layer_2_weights = tf.Variable(tf.random_normal([neur, neur]))\n",
    "layer_2_bias = tf.Variable(tf.random_normal([neur]))\n",
    "layer_2 = tf.nn.relu(tf.add(tf.matmul(layer_1, layer_2_weights), layer_2_bias))\n",
    "\"\"\"\n",
    "\n",
    "# Create third layer weights\n",
    "layer_3_weights = tf.Variable(tf.random_normal([neur, 5]))\n",
    "layer_3_bias = tf.Variable(tf.random_normal([5]))\n",
    "layer_3 = tf.nn.softmax(tf.add(tf.matmul(layer_1, layer_3_weights), layer_3_bias))"
   ]
  },
  {
   "cell_type": "code",
   "execution_count": 75,
   "metadata": {},
   "outputs": [
    {
     "name": "stdout",
     "output_type": "stream",
     "text": [
      "Training...\n"
     ]
    },
    {
     "data": {
      "image/png": "[encoded data removed]",
      "text/plain": [
       "<Figure size 432x288 with 1 Axes>"
      ]
     },
     "metadata": {
      "needs_background": "light"
     },
     "output_type": "display_data"
    }
   ],
   "source": [
    "# Define error function\n",
    "cost = tf.reduce_mean(tf.losses.mean_squared_error(labels=y_, predictions=layer_3))\n",
    "\n",
    "# Define optimizer and its task (minimise error function)\n",
    "optimizer = tf.train.GradientDescentOptimizer(learning_rate=.1).minimize(cost)\n",
    "\n",
    "N_EPOCHS = 200000 #Increase the number of epochs to about 50000 to get better results. This will take some time for training.\n",
    "\n",
    "sess = tf.InteractiveSession()\n",
    "tf.global_variables_initializer().run()\n",
    "\n",
    "print('Training...')\n",
    "\n",
    "errors = []\n",
    "\n",
    "# Train\n",
    "for i in range(N_EPOCHS):\n",
    "    _, error = sess.run([optimizer,cost], feed_dict={x_: X_train, y_: y_train})\n",
    "    errors.append(error)\n",
    "    \n",
    "plt.plot(errors)\n",
    "plt.show()       "
   ]
  },
  {
   "cell_type": "code",
   "execution_count": 87,
   "metadata": {},
   "outputs": [
    {
     "data": {
      "text/plain": [
       "array([[0., 0., 0., 0., 1.],\n",
       "       [0., 0., 0., 0., 1.],\n",
       "       [0., 0., 0., 0., 1.],\n",
       "       [0., 0., 1., 0., 0.],\n",
       "       [0., 0., 0., 0., 1.],\n",
       "       [0., 0., 0., 0., 1.],\n",
       "       [0., 0., 0., 0., 1.],\n",
       "       [0., 0., 0., 1., 0.],\n",
       "       [0., 0., 0., 0., 1.],\n",
       "       [0., 0., 0., 0., 1.]], dtype=float32)"
      ]
     },
     "execution_count": 87,
     "metadata": {},
     "output_type": "execute_result"
    }
   ],
   "source": [
    "# Display predictions\n",
    "classifications2 = round(sess.run(layer_3, feed_dict={x_: X_train}))\n",
    "#for input, target, prediction in zip(x, y, classifications):\n",
    "#    print(\"input\",input,\"target\",target,\"prediction\",prediction)\n",
    "classifications2[0:10]"
   ]
  },
  {
   "cell_type": "code",
   "execution_count": 88,
   "metadata": {},
   "outputs": [],
   "source": [
    "def label_dencode(label):\n",
    "    val= []\n",
    "    if np.where(label == 1)[0]==0:\n",
    "        val = 1.0\n",
    "    elif np.where(label == 1)[0]==1:\n",
    "        val = 2.0\n",
    "    elif np.where(label == 1)[0]==2:\n",
    "        val = 3.0\n",
    "    elif np.where(label == 1)[0]==3:\n",
    "        val = 4.0\n",
    "    elif np.where(label == 1)[0]==4:\n",
    "        val = 5.0\n",
    "    else: val = 0.0\n",
    "    return val\n",
    "\n"
   ]
  },
  {
   "cell_type": "code",
   "execution_count": 89,
   "metadata": {},
   "outputs": [],
   "source": [
    "class2 = list(np.zeros(len(classifications2))) \n",
    "for i in range(0, len(class2)): class2[i]=int(label_dencode(classifications2[i]))\n",
    "\n",
    "y2 = list(np.zeros(len(y_train)))           \n",
    "for i in range(0, len(y2)): y2[i]=int(label_dencode(round(y_train[i])))\n"
   ]
  },
  {
   "cell_type": "code",
   "execution_count": 90,
   "metadata": {},
   "outputs": [
    {
     "name": "stdout",
     "output_type": "stream",
     "text": [
      "5 5 1.0\n",
      "5 5 2.0\n",
      "5 5 3.0\n",
      "3 3 1.0\n",
      "5 5 4.0\n",
      "5 5 5.0\n",
      "5 5 6.0\n",
      "4 4 1.0\n",
      "5 5 7.0\n",
      "5 5 8.0\n",
      "1 1 1.0\n",
      "5 5 9.0\n",
      "4 4 2.0\n",
      "5 5 10.0\n",
      "3 3 2.0\n",
      "5 5 11.0\n",
      "5 5 12.0\n",
      "5 5 13.0\n",
      "3 3 3.0\n",
      "5 5 14.0\n",
      "5 5 15.0\n",
      "4 4 3.0\n",
      "4 4 4.0\n",
      "1 1 2.0\n",
      "4 4 5.0\n",
      "5 5 16.0\n",
      "5 5 17.0\n",
      "4 4 6.0\n",
      "5 5 18.0\n",
      "5 5 19.0\n",
      "5 5 20.0\n",
      "2 2 1.0\n",
      "4 4 7.0\n",
      "3 3 4.0\n",
      "1 1 3.0\n",
      "1 1 4.0\n",
      "2 2 2.0\n",
      "5 5 21.0\n",
      "1 1 5.0\n",
      "4 4 8.0\n",
      "5 5 22.0\n",
      "5 5 23.0\n",
      "5 5 24.0\n",
      "5 5 25.0\n",
      "4 4 9.0\n",
      "4 4 10.0\n",
      "5 5 26.0\n",
      "5 5 27.0\n",
      "5 5 28.0\n",
      "1 1 6.0\n",
      "5 5 29.0\n",
      "2 2 3.0\n",
      "5 5 30.0\n",
      "4 4 11.0\n",
      "5 5 31.0\n",
      "1 1 7.0\n",
      "4 4 12.0\n",
      "3 3 5.0\n",
      "3 3 6.0\n",
      "1 1 8.0\n",
      "5 5 32.0\n",
      "5 5 33.0\n",
      "4 4 13.0\n",
      "4 4 14.0\n",
      "5 5 34.0\n",
      "5 5 35.0\n",
      "4 4 15.0\n",
      "1 1 9.0\n",
      "4 4 16.0\n",
      "2 2 4.0\n",
      "1 1 10.0\n",
      "4 4 17.0\n",
      "5 5 36.0\n",
      "4 4 18.0\n",
      "4 4 19.0\n",
      "3 3 7.0\n",
      "2 2 5.0\n",
      "5 5 37.0\n",
      "4 4 20.0\n",
      "5 5 38.0\n",
      "5 5 39.0\n",
      "2 2 6.0\n",
      "4 4 21.0\n",
      "5 5 40.0\n",
      "5 5 41.0\n",
      "5 5 42.0\n",
      "5 5 43.0\n",
      "5 5 44.0\n",
      "1 1 11.0\n",
      "5 5 45.0\n",
      "2 2 7.0\n",
      "4 4 22.0\n",
      "4 4 23.0\n",
      "1 1 12.0\n",
      "4 4 24.0\n",
      "5 5 46.0\n",
      "2 2 8.0\n",
      "5 5 47.0\n",
      "4 4 25.0\n",
      "5 5 48.0\n",
      "4 4 26.0\n",
      "5 5 49.0\n",
      "5 5 50.0\n",
      "1 1 13.0\n",
      "4 4 27.0\n",
      "2 2 9.0\n",
      "4 4 28.0\n",
      "5 5 51.0\n",
      "5 5 52.0\n",
      "5 5 53.0\n",
      "5 5 54.0\n",
      "4 4 29.0\n",
      "2 2 10.0\n",
      "5 5 55.0\n",
      "4 4 30.0\n",
      "3 3 8.0\n",
      "4 4 31.0\n",
      "5 5 56.0\n",
      "5 5 57.0\n",
      "4 4 32.0\n",
      "4 4 33.0\n",
      "1 1 14.0\n",
      "5 5 58.0\n",
      "4 4 34.0\n",
      "2 2 11.0\n",
      "4 4 35.0\n",
      "5 5 59.0\n",
      "1 1 15.0\n",
      "5 5 60.0\n",
      "2 2 12.0\n",
      "4 4 36.0\n",
      "4 4 37.0\n",
      "2 2 13.0\n",
      "5 5 61.0\n",
      "3 3 9.0\n",
      "5 5 62.0\n",
      "5 5 63.0\n",
      "5 5 64.0\n",
      "5 5 65.0\n",
      "5 5 66.0\n",
      "4 4 38.0\n",
      "4 4 39.0\n",
      "5 5 67.0\n",
      "5 5 68.0\n",
      "3 3 10.0\n",
      "5 5 69.0\n",
      "4 4 40.0\n",
      "3 3 11.0\n",
      "5 5 70.0\n",
      "5 5 71.0\n",
      "4 4 41.0\n",
      "4 4 42.0\n",
      "1 1 16.0\n",
      "5 5 72.0\n",
      "5 5 73.0\n",
      "5 5 74.0\n",
      "4 4 43.0\n",
      "5 5 75.0\n",
      "1 1 17.0\n",
      "5 5 76.0\n"
     ]
    }
   ],
   "source": [
    "confusion_matrix = np.zeros((len(class_names)+1, len(class_names)+1))\n",
    "\n",
    "for true_label, predicted_label in zip(y2, class2):    \n",
    "    confusion_matrix[true_label][predicted_label] += 1\n",
    "    print(true_label, predicted_label,confusion_matrix[true_label][predicted_label])\n",
    "    \n",
    "confusion_matrix = confusion_matrix[1:6,1:6]"
   ]
  },
  {
   "cell_type": "code",
   "execution_count": 91,
   "metadata": {},
   "outputs": [],
   "source": [
    "import itertools\n",
    "def plot_confusion_matrix(cm, classes,\n",
    "                          normalize=True,\n",
    "                          title='Confusion matrix',\n",
    "                          cmap=plt.cm.Blues):\n",
    "    \"\"\"\n",
    "    This function prints and plots the confusion matrix.\n",
    "    Normalization can be applied by setting `normalize=True`.\n",
    "    \"\"\"\n",
    "    if normalize:\n",
    "        cm = cm.astype('float') / cm.sum(axis=1)[:, np.newaxis]\n",
    "        print(\"Normalized confusion matrix\")\n",
    "    else:\n",
    "        print('Confusion matrix, without normalization')\n",
    "\n",
    "    print(cm)\n",
    "\n",
    "    plt.imshow(cm, interpolation='nearest', cmap=cmap)\n",
    "    plt.title(title)\n",
    "    plt.colorbar()\n",
    "    tick_marks = np.arange(len(classes))\n",
    "    plt.xticks(tick_marks, classes, rotation=45)\n",
    "    plt.yticks([-0.5, 0.5, 1.5, 2.5, 3.5, 4.5], classes)\n",
    "\n",
    "    #fmt = '.2f' if normalize else 'd'\n",
    "    thresh = cm.max() / 2.\n",
    "    for i, j in itertools.product(range(cm.shape[0]), range(cm.shape[1])):\n",
    "        plt.text(j, i, np.round(cm[i, j],2),\n",
    "                 horizontalalignment=\"center\",\n",
    "                 color=\"white\" if cm[i, j] > thresh else \"black\")\n",
    "\n",
    "    plt.tight_layout()\n",
    "    plt.ylabel('True label')\n",
    "    plt.xlabel('Predicted label')"
   ]
  },
  {
   "cell_type": "code",
   "execution_count": 92,
   "metadata": {},
   "outputs": [
    {
     "name": "stdout",
     "output_type": "stream",
     "text": [
      "Confusion matrix, without normalization\n",
      "[[17.  0.  0.  0.  0.]\n",
      " [ 0. 13.  0.  0.  0.]\n",
      " [ 0.  0. 11.  0.  0.]\n",
      " [ 0.  0.  0. 43.  0.]\n",
      " [ 0.  0.  0.  0. 76.]]\n",
      "Normalized confusion matrix\n",
      "[[1. 0. 0. 0. 0.]\n",
      " [0. 1. 0. 0. 0.]\n",
      " [0. 0. 1. 0. 0.]\n",
      " [0. 0. 0. 1. 0.]\n",
      " [0. 0. 0. 0. 1.]]\n"
     ]
    },
    {
     "data": {
      "image/png": "[encoded data removed]",
      "text/plain": [
       "<Figure size 432x288 with 2 Axes>"
      ]
     },
     "metadata": {
      "needs_background": "light"
     },
     "output_type": "display_data"
    },
    {
     "data": {
      "image/png": "[encoded data removed]",
      "text/plain": [
       "<Figure size 432x288 with 2 Axes>"
      ]
     },
     "metadata": {
      "needs_background": "light"
     },
     "output_type": "display_data"
    }
   ],
   "source": [
    "#from tools import plot_confusion_matrix\n",
    "\n",
    "\n",
    "plt.figure()\n",
    "plot_confusion_matrix(confusion_matrix, classes=['drugA','drugB','drugC','drugX','drugY'], normalize=False, title='Confusion matrix, without normalization')\n",
    "\n",
    "plt.figure()\n",
    "plot_confusion_matrix(confusion_matrix, classes=['drugA','drugB','drugC','drugX','drugY'], normalize=True, title='Normalized confusion matrix')\n",
    "\n",
    "plt.show()"
   ]
  },
  {
   "cell_type": "markdown",
   "metadata": {},
   "source": [
    "Crossvalidation with test dataset"
   ]
  },
  {
   "cell_type": "code",
   "execution_count": 93,
   "metadata": {},
   "outputs": [
    {
     "data": {
      "text/plain": [
       "array([[0., 0., 0., 0., 1.],\n",
       "       [0., 0., 0., 0., 1.],\n",
       "       [0., 0., 0., 0., 1.],\n",
       "       [0., 0., 0., 0., 1.],\n",
       "       [0., 0., 0., 0., 1.],\n",
       "       [0., 0., 0., 1., 0.],\n",
       "       [0., 0., 0., 0., 1.],\n",
       "       [0., 0., 0., 0., 1.],\n",
       "       [0., 0., 0., 0., 1.],\n",
       "       [0., 0., 0., 0., 0.]], dtype=float32)"
      ]
     },
     "execution_count": 93,
     "metadata": {},
     "output_type": "execute_result"
    }
   ],
   "source": [
    "# Display predictions\n",
    "classificationsTest = round(sess.run(layer_3, feed_dict={x_: X_test}))\n",
    "#for input, target, prediction in zip(x, y, classifications):\n",
    "#    print(\"input\",input,\"target\",target,\"prediction\",prediction)\n",
    "classificationsTest[0:10]"
   ]
  },
  {
   "cell_type": "code",
   "execution_count": 94,
   "metadata": {},
   "outputs": [
    {
     "name": "stderr",
     "output_type": "stream",
     "text": [
      "C:\\ProgramData\\Anaconda3\\lib\\site-packages\\ipykernel_launcher.py:3: DeprecationWarning: The truth value of an empty array is ambiguous. Returning False, but in future this will result in an error. Use `array.size > 0` to check that an array is not empty.\n",
      "  This is separate from the ipykernel package so we can avoid doing imports until\n",
      "C:\\ProgramData\\Anaconda3\\lib\\site-packages\\ipykernel_launcher.py:5: DeprecationWarning: The truth value of an empty array is ambiguous. Returning False, but in future this will result in an error. Use `array.size > 0` to check that an array is not empty.\n",
      "  \"\"\"\n",
      "C:\\ProgramData\\Anaconda3\\lib\\site-packages\\ipykernel_launcher.py:7: DeprecationWarning: The truth value of an empty array is ambiguous. Returning False, but in future this will result in an error. Use `array.size > 0` to check that an array is not empty.\n",
      "  import sys\n",
      "C:\\ProgramData\\Anaconda3\\lib\\site-packages\\ipykernel_launcher.py:9: DeprecationWarning: The truth value of an empty array is ambiguous. Returning False, but in future this will result in an error. Use `array.size > 0` to check that an array is not empty.\n",
      "  if __name__ == '__main__':\n",
      "C:\\ProgramData\\Anaconda3\\lib\\site-packages\\ipykernel_launcher.py:11: DeprecationWarning: The truth value of an empty array is ambiguous. Returning False, but in future this will result in an error. Use `array.size > 0` to check that an array is not empty.\n",
      "  # This is added back by InteractiveShellApp.init_path()\n"
     ]
    }
   ],
   "source": [
    "class2 = list(np.zeros(len(classificationsTest))) \n",
    "for i in range(0, len(class2)): class2[i]=int(label_dencode(classificationsTest[i]))\n",
    "\n",
    "y2 = list(np.zeros(len(y_test)))           \n",
    "for i in range(0, len(y2)): y2[i]=int(label_dencode(round(y_test[i])))\n"
   ]
  },
  {
   "cell_type": "code",
   "execution_count": 95,
   "metadata": {},
   "outputs": [
    {
     "name": "stdout",
     "output_type": "stream",
     "text": [
      "5 5 1.0\n",
      "5 5 2.0\n",
      "5 5 3.0\n",
      "5 5 4.0\n",
      "3 5 1.0\n",
      "4 4 1.0\n",
      "5 5 5.0\n",
      "5 5 6.0\n",
      "5 5 7.0\n",
      "1 0 1.0\n",
      "1 1 1.0\n",
      "4 4 2.0\n",
      "1 1 2.0\n",
      "5 5 8.0\n",
      "5 5 9.0\n",
      "5 5 10.0\n",
      "5 5 11.0\n",
      "4 4 3.0\n",
      "2 1 1.0\n",
      "3 3 1.0\n",
      "4 4 4.0\n",
      "3 3 2.0\n",
      "1 5 1.0\n",
      "4 5 1.0\n",
      "3 3 3.0\n",
      "2 2 1.0\n",
      "4 4 5.0\n",
      "5 5 12.0\n",
      "4 4 6.0\n",
      "5 5 13.0\n",
      "2 2 2.0\n",
      "3 3 4.0\n",
      "4 4 7.0\n",
      "4 4 8.0\n",
      "4 4 9.0\n",
      "5 5 14.0\n",
      "1 1 3.0\n",
      "1 1 4.0\n",
      "4 4 10.0\n",
      "5 5 15.0\n"
     ]
    }
   ],
   "source": [
    "confusion_matrix = np.zeros((len(class_names)+1, len(class_names)+1))\n",
    "\n",
    "for true_label, predicted_label in zip(y2, class2):    \n",
    "    confusion_matrix[true_label][predicted_label] += 1\n",
    "    print(true_label, predicted_label,confusion_matrix[true_label][predicted_label])\n",
    "    \n",
    "#confusion_matrix = confusion_matrix[1:6,1:6]"
   ]
  },
  {
   "cell_type": "code",
   "execution_count": 96,
   "metadata": {},
   "outputs": [
    {
     "name": "stdout",
     "output_type": "stream",
     "text": [
      "Confusion matrix, without normalization\n",
      "[[ 4.  0.  0.  0.  1.]\n",
      " [ 1.  2.  0.  0.  0.]\n",
      " [ 0.  0.  4.  0.  1.]\n",
      " [ 0.  0.  0. 10.  1.]\n",
      " [ 0.  0.  0.  0. 15.]]\n",
      "Normalized confusion matrix\n",
      "[[0.8        0.         0.         0.         0.2       ]\n",
      " [0.33333333 0.66666667 0.         0.         0.        ]\n",
      " [0.         0.         0.8        0.         0.2       ]\n",
      " [0.         0.         0.         0.90909091 0.09090909]\n",
      " [0.         0.         0.         0.         1.        ]]\n"
     ]
    },
    {
     "data": {
      "image/png": "[encoded data removed]",
      "text/plain": [
       "<Figure size 432x288 with 2 Axes>"
      ]
     },
     "metadata": {
      "needs_background": "light"
     },
     "output_type": "display_data"
    },
    {
     "data": {
      "image/png": "[encoded data removed]",
      "text/plain": [
       "<Figure size 432x288 with 2 Axes>"
      ]
     },
     "metadata": {
      "needs_background": "light"
     },
     "output_type": "display_data"
    }
   ],
   "source": [
    "#from tools import plot_confusion_matrix\n",
    "\n",
    "\n",
    "plt.figure()\n",
    "plot_confusion_matrix(confusion_matrix, classes=['drugA','drugB','drugC','drugX','drugY'], normalize=False, title='Confusion matrix, without normalization')\n",
    "\n",
    "plt.figure()\n",
    "plot_confusion_matrix(confusion_matrix, classes=['drugA','drugB','drugC','drugX','drugY'], normalize=True, title='Normalized confusion matrix')\n",
    "\n",
    "plt.show()"
   ]
  },
  {
   "cell_type": "code",
   "execution_count": null,
   "metadata": {},
   "outputs": [],
   "source": []
  }
 ],
 "metadata": {
  "kernelspec": {
   "display_name": "Python 3",
   "language": "python",
   "name": "python3"
  },
  "language_info": {
   "codemirror_mode": {
    "name": "ipython",
    "version": 3
   },
   "file_extension": ".py",
   "mimetype": "text/x-python",
   "name": "python",
   "nbconvert_exporter": "python",
   "pygments_lexer": "ipython3",
   "version": "3.7.4"
  },
  "pycharm": {
   "stem_cell": {
    "cell_type": "raw",
    "metadata": {
     "collapsed": false
    },
    "source": []
   }
  }
 },
 "nbformat": 4,
 "nbformat_minor": 1
}
