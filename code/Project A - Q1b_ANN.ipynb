{
 "cells": [
  {
   "cell_type": "markdown",
   "metadata": {},
   "source": [
    "# Q1b - ANN - Multilayer Perceptron - Variations Two spiral Dataset"
   ]
  },
  {
   "cell_type": "code",
   "execution_count": 32,
   "metadata": {},
   "outputs": [],
   "source": [
    "import numpy as np\n",
    "from numpy import arange, round, meshgrid, resize\n",
    "import csv\n",
    "import pandas as pd\n",
    "import tensorflow as tf\n",
    "import matplotlib.pyplot as plt\n",
    "\n",
    "#def read_two_spiral_file(filename=\"datasets/spiralsdataset.csv\"):\n",
    "def read_two_spiral_file(filename=\"datasets/result_400x5x3.csv\"):    \n",
    "    x = []\n",
    "    y = []\n",
    "    \n",
    "    with open(filename) as csv_file:\n",
    "        csv_reader = csv.reader(csv_file)\n",
    "        for row in csv_reader:\n",
    "            x.append(list(map(float, row[:-1])))\n",
    "            y.append([int(row[-1])])\n",
    "\n",
    "    return x, y\n",
    "\n",
    "x, y = read_two_spiral_file()"
   ]
  },
  {
   "cell_type": "code",
   "execution_count": 33,
   "metadata": {},
   "outputs": [],
   "source": [
    "# Create the model\n",
    "x_ = tf.placeholder(tf.float32, [None, 2])\n",
    "y_ = tf.placeholder(tf.float32, [None, 1])\n",
    "\n",
    "unit = 100\n",
    "\n",
    "# Create first layer weights\n",
    "layer_0_weights = tf.Variable(tf.random_normal([2, unit]))\n",
    "layer_0_bias = tf.Variable(tf.random_normal([unit]))\n",
    "layer_0 = tf.nn.sigmoid(tf.add((tf.matmul(x_, layer_0_weights)), layer_0_bias))\n",
    "\n",
    "# Create second layer weights\n",
    "layer_1_weights = tf.Variable(tf.random_normal([unit, unit]))\n",
    "layer_1_bias = tf.Variable(tf.random_normal([unit]))\n",
    "layer_1 = tf.nn.sigmoid(tf.add(tf.matmul(layer_0, layer_1_weights), layer_1_bias))\n",
    "\n",
    "# Create second layer weights\n",
    "layer_2_weights = tf.Variable(tf.random_normal([unit, unit]))\n",
    "layer_2_bias = tf.Variable(tf.random_normal([unit]))\n",
    "layer_2 = tf.nn.sigmoid(tf.add(tf.matmul(layer_1, layer_2_weights), layer_2_bias))\n",
    "\n",
    "# Create third layer weights\n",
    "layer_3_weights = tf.Variable(tf.random_normal([unit, 1]))\n",
    "layer_3_bias = tf.Variable(tf.random_normal([1]))\n",
    "layer_3 = tf.nn.sigmoid(tf.add(tf.matmul(layer_2, layer_3_weights), layer_3_bias))"
   ]
  },
  {
   "cell_type": "code",
   "execution_count": null,
   "metadata": {},
   "outputs": [
    {
     "name": "stdout",
     "output_type": "stream",
     "text": [
      "Training...\n"
     ]
    }
   ],
   "source": [
    "# Define error function\n",
    "cost = tf.reduce_mean(tf.losses.mean_squared_error(labels=y_, predictions=layer_3))\n",
    "\n",
    "# Define optimizer and its task (minimise error function)\n",
    "optimizer = tf.train.GradientDescentOptimizer(learning_rate=.5).minimize(cost)\n",
    "\n",
    "N_EPOCHS = 300000 #Increase the number of epochs to about 50000 to get better results. This will take some time for training.\n",
    "\n",
    "sess = tf.InteractiveSession()\n",
    "tf.global_variables_initializer().run()\n",
    "\n",
    "print('Training...')\n",
    "\n",
    "errors = []\n",
    "\n",
    "# Train\n",
    "for i in range(N_EPOCHS):\n",
    "    _, error = sess.run([optimizer,cost], feed_dict={x_: x, y_: y})\n",
    "    errors.append(error)\n",
    "    \n",
    "plt.plot(errors)\n",
    "plt.show()       "
   ]
  },
  {
   "cell_type": "code",
   "execution_count": null,
   "metadata": {},
   "outputs": [],
   "source": [
    "# Visualise activations\n",
    "activation_range = arange(-30,30,0.1) # interval of [-6,6) with step size 0.1\n",
    "coordinates = [(x,y) for x in activation_range for y in activation_range]\n",
    "classifications = round(sess.run(layer_3, feed_dict={x_:coordinates}))\n",
    "x, y = meshgrid(activation_range, activation_range)\n",
    "plt.scatter(x, y, c=['b' if x > 0 else 'y' for x in classifications])\n",
    "plt.show()"
   ]
  },
  {
   "cell_type": "code",
   "execution_count": null,
   "metadata": {},
   "outputs": [],
   "source": []
  }
 ],
 "metadata": {
  "kernelspec": {
   "display_name": "Python 3",
   "language": "python",
   "name": "python3"
  },
  "language_info": {
   "codemirror_mode": {
    "name": "ipython",
    "version": 3
   },
   "file_extension": ".py",
   "mimetype": "text/x-python",
   "name": "python",
   "nbconvert_exporter": "python",
   "pygments_lexer": "ipython3",
   "version": "3.7.4"
  },
  "pycharm": {
   "stem_cell": {
    "cell_type": "raw",
    "metadata": {
     "collapsed": false
    },
    "source": []
   }
  }
 },
 "nbformat": 4,
 "nbformat_minor": 1
}
