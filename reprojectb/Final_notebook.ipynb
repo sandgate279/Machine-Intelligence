{
 "cells": [
  {
   "cell_type": "code",
   "execution_count": 1,
   "metadata": {},
   "outputs": [],
   "source": [
    "from tensorflow.keras.models import load_model\n",
    "from tensorflow.keras import backend as K\n",
    "model=load_model(\"best_model.h5\")\n",
    "\n"
   ]
  },
  {
   "cell_type": "code",
   "execution_count": 2,
   "metadata": {},
   "outputs": [
    {
     "name": "stdout",
     "output_type": "stream",
     "text": [
      "WARNING:tensorflow:Model was constructed with shape (None, 28, 28, 3) for input Tensor(\"conv2d_15_input:0\", shape=(None, 28, 28, 3), dtype=float32), but it was called on an input with incompatible shape (None, 22, 22, 3).\n",
      "Image class normal:  [0.]\n"
     ]
    }
   ],
   "source": [
    "# code for predicting an image stored locally against a trained model\n",
    "\n",
    "import numpy as np\n",
    "from PIL import Image\n",
    "from tensorflow.keras.preprocessing import image\n",
    "img = image.load_img('E:/chest-xray-pneumonia/chest_xray/chest_xray/test/NORMAL/IM-0010-0001.jpeg' , target_size=(22,22))\n",
    "\n",
    "x = image.img_to_array(img)\n",
    "x = np.expand_dims(x, axis=0)\n",
    "output = model.predict(x)\n",
    "\n",
    "if output[0][0]==0:\n",
    "    print(\"Image class normal: \",output[0])\n",
    "else:\n",
    "    print(\"Image class pneumonia: \",output[0])"
   ]
  },
  {
   "cell_type": "code",
   "execution_count": null,
   "metadata": {},
   "outputs": [],
   "source": [
    "#References\tPython, O., Scatterday, D., Scatterday, D., Gupta, T., & Baars, S. (2020). One class classification using Keras and Python. Retrieved 8 June 2020, from https://stackoverflow.com/questions/57309958/one-class-classification-using-keras-and-python"
   ]
  }
 ],
 "metadata": {
  "kernelspec": {
   "display_name": "Python 3",
   "language": "python",
   "name": "python3"
  },
  "language_info": {
   "codemirror_mode": {
    "name": "ipython",
    "version": 3
   },
   "file_extension": ".py",
   "mimetype": "text/x-python",
   "name": "python",
   "nbconvert_exporter": "python",
   "pygments_lexer": "ipython3",
   "version": "3.6.5"
  }
 },
 "nbformat": 4,
 "nbformat_minor": 2
}
